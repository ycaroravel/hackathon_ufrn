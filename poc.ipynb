{
 "cells": [
  {
   "cell_type": "code",
   "execution_count": 1,
   "metadata": {
    "collapsed": true
   },
   "outputs": [],
   "source": [
    "import pandas as pd\n",
    "import numpy as np\n",
    "import re"
   ]
  },
  {
   "cell_type": "code",
   "execution_count": 4,
   "metadata": {
    "collapsed": false
   },
   "outputs": [],
   "source": [
    "presenciais = pd.read_csv('componentes-curriculares-presenciais.csv', delimiter=';')\n",
    "semi = pd.read_csv('componentes-curriculares-semi-presenciais.csv', delimiter=';')\n",
    "ead = pd.read_csv('componentes-curriculares-ead.csv', delimiter=';')\n",
    "componentes = presenciais.append(semi).append(ead)\n",
    "componentes = componentes[componentes.nivel=='G']"
   ]
  },
  {
   "cell_type": "code",
   "execution_count": 15,
   "metadata": {
    "collapsed": false
   },
   "outputs": [],
   "source": [
    "cursos = pd.read_csv('cursos-graduacao.csv', delimiter=';')"
   ]
  },
  {
   "cell_type": "code",
   "execution_count": 19,
   "metadata": {
    "collapsed": true
   },
   "outputs": [],
   "source": [
    "matriculas_20171 = pd.read_csv('matricula-componente-20171.csv', delimiter=';')\n",
    "matriculas_20172 = pd.read_csv('matricula-componente-20172.csv', delimiter=';')\n",
    "matriculas = matriculas_20171.append(matriculas_20172)\n",
    "matriculas = matriculas.groupby('id_turma', as_index=False).first()\n",
    "matriculas = matriculas[matriculas.id_curso.isin(cursos.id_curso)]"
   ]
  },
  {
   "cell_type": "code",
   "execution_count": 23,
   "metadata": {
    "collapsed": false
   },
   "outputs": [],
   "source": [
    "turmas_20171 = pd.read_csv('turmas-2017.1.csv', delimiter=';')\n",
    "turmas_20172 = pd.read_csv('turmas-2017.2.csv', delimiter=';')\n",
    "turmas = turmas_20171.append(turmas_20172)\n",
    "turmas = turmas.groupby('id_turma', as_index=False).first()"
   ]
  },
  {
   "cell_type": "code",
   "execution_count": 36,
   "metadata": {
    "collapsed": false
   },
   "outputs": [],
   "source": [
    "matriculas['id_componente_curricular'] = matriculas.apply(lambda x: turmas[turmas.id_turma==x.id_turma].id_componente_curricular.values[0], axis=1)"
   ]
  },
  {
   "cell_type": "code",
   "execution_count": 39,
   "metadata": {
    "collapsed": false
   },
   "outputs": [],
   "source": [
    "matriculas['nome_componente_curricular'] = matriculas.apply(lambda x: componentes[componentes.id_componente==x.id_componente_curricular].nome.values[0], axis=1)"
   ]
  },
  {
   "cell_type": "code",
   "execution_count": 44,
   "metadata": {
    "collapsed": false
   },
   "outputs": [],
   "source": [
    "disciplinas_cursos = matriculas[['id_curso', 'nome_componente_curricular']].groupby('id_curso').apply(lambda x: ' '.join(x.nome_componente_curricular))"
   ]
  },
  {
   "cell_type": "code",
   "execution_count": 93,
   "metadata": {
    "collapsed": false
   },
   "outputs": [],
   "source": [
    "from unicodedata import normalize\n",
    "def remover_acentos(txt):\n",
    "    return normalize('NFKD', txt).encode('ASCII','ignore').decode('ASCII')\n",
    "\n",
    "    if __name__ == '__main__':\n",
    "        from doctest import testmod\n",
    "        testmod()\n",
    "\n",
    "import nltk\n",
    "nltk.download('stopwords')\n",
    "from nltk.corpus import stopwords\n",
    "stopw = set(stopwords.words('portuguese'))\n",
    "\n",
    "def palavras_por_curso (curso, n_palavras):\n",
    "    disciplinas = disciplinas_cursos[cursos[cursos.nome==curso].id_curso].values\n",
    "    disciplinas = ' '.join(disciplinas)\n",
    "    words = re.sub('[!@#$%^&*()\\[\\]{};:,.\\-/<>\\'?\\|`=_+]', \"\", str(remover_acentos(disciplinas))).lower().split()\n",
    "    words = [w for w in words if w not in stopw]\n",
    "    return pd.Series(words).value_counts()[:n_palavras].index"
   ]
  },
  {
   "cell_type": "markdown",
   "metadata": {},
   "source": [
    "## Lista de Cursos"
   ]
  },
  {
   "cell_type": "code",
   "execution_count": 87,
   "metadata": {
    "collapsed": false
   },
   "outputs": [
    {
     "data": {
      "text/plain": [
       "0                                     ADMINISTRAÇÃO\n",
       "1                                     ADMINISTRAÇÃO\n",
       "2                             ADMINISTRAÇÃO PÚBLICA\n",
       "3                                         AGRONOMIA\n",
       "4             ANÁLISE E DESENVOLVIMENTO DE SISTEMAS\n",
       "5                           ARQUITETURA E URBANISMO\n",
       "6                                     ARTES VISUAIS\n",
       "7                                   BIBLIOTECONOMIA\n",
       "8                                       BIOMEDICINA\n",
       "9                             CIÊNCIA DA COMPUTAÇÃO\n",
       "10                               CIÊNCIAS ATUARIAIS\n",
       "11                              CIÊNCIAS BIOLÓGICAS\n",
       "12                              CIÊNCIAS BIOLÓGICAS\n",
       "13                              CIÊNCIAS BIOLÓGICAS\n",
       "14                               CIÊNCIAS CONTÁBEIS\n",
       "15                               CIÊNCIAS CONTÁBEIS\n",
       "16                              CIÊNCIAS ECONÔMICAS\n",
       "17                            CIÊNCIAS E TECNOLOGIA\n",
       "18                                 CIÊNCIAS SOCIAIS\n",
       "19                                 CIÊNCIAS SOCIAIS\n",
       "20                               COMUNICAÇÃO SOCIAL\n",
       "21                 COMUNICAÇÃO SOCIAL - AUDIOVISUAL\n",
       "22     COMUNICAÇÃO SOCIAL- PUBLICIDADE E PROPAGANDA\n",
       "23                                            DANÇA\n",
       "24                                           DESIGN\n",
       "25                                          DIREITO\n",
       "26                                          DIREITO\n",
       "27                                         ECOLOGIA\n",
       "28                                  EDUCAÇÃO FÍSICA\n",
       "29                                  EDUCAÇÃO FÍSICA\n",
       "                           ...                     \n",
       "88                 LICENCIATURA EM CIÊNCIAS SOCIAIS\n",
       "89                                       MATEMÁTICA\n",
       "90                                       MATEMÁTICA\n",
       "91                                       MATEMÁTICA\n",
       "92                                       MATEMÁTICA\n",
       "93                                       MATEMÁTICA\n",
       "94                                         MEDICINA\n",
       "95                                         MEDICINA\n",
       "96                                     METEOROLOGIA\n",
       "97                                           MÚSICA\n",
       "98                                           MÚSICA\n",
       "99                                         NUTRIÇÃO\n",
       "100                                        NUTRIÇÃO\n",
       "101                                     ODONTOLOGIA\n",
       "102                                       PEDAGOGIA\n",
       "103                                       PEDAGOGIA\n",
       "104                                       PEDAGOGIA\n",
       "105                                      PSICOLOGIA\n",
       "106                                      PSICOLOGIA\n",
       "107                                         QUÍMICA\n",
       "108                                         QUÍMICA\n",
       "109                                         QUÍMICA\n",
       "110                             QUÍMICA DO PETRÓLEO\n",
       "111                                  SERVIÇO SOCIAL\n",
       "112                          SISTEMAS DE INFORMAÇÃO\n",
       "113                                          TEATRO\n",
       "114                        TECNOLOGIA DA INFORMAÇÃO\n",
       "115                                         TURISMO\n",
       "116                                         TURISMO\n",
       "117                                       ZOOTECNIA\n",
       "Name: nome, dtype: object"
      ]
     },
     "execution_count": 87,
     "metadata": {},
     "output_type": "execute_result"
    }
   ],
   "source": [
    "cursos.nome"
   ]
  },
  {
   "cell_type": "code",
   "execution_count": 98,
   "metadata": {
    "collapsed": false
   },
   "outputs": [
    {
     "data": {
      "text/plain": [
       "Index(['desenho', 'projeto', 'produto', 'visual', 'programacao'], dtype='object')"
      ]
     },
     "execution_count": 98,
     "metadata": {},
     "output_type": "execute_result"
    }
   ],
   "source": [
    "curso = 'DESIGN'\n",
    "n_palavras = 5\n",
    "palavras_por_curso (curso, n_palavras)"
   ]
  },
  {
   "cell_type": "code",
   "execution_count": null,
   "metadata": {
    "collapsed": true
   },
   "outputs": [],
   "source": []
  }
 ],
 "metadata": {
  "kernelspec": {
   "display_name": "Python 3",
   "language": "python",
   "name": "python3"
  },
  "language_info": {
   "codemirror_mode": {
    "name": "ipython",
    "version": 3
   },
   "file_extension": ".py",
   "mimetype": "text/x-python",
   "name": "python",
   "nbconvert_exporter": "python",
   "pygments_lexer": "ipython3",
   "version": "3.6.0"
  }
 },
 "nbformat": 4,
 "nbformat_minor": 2
}
